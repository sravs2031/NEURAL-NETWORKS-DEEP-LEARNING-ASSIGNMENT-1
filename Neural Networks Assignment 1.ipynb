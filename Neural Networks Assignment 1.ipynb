{
  "nbformat": 4,
  "nbformat_minor": 0,
  "metadata": {
    "colab": {
      "provenance": []
    },
    "kernelspec": {
      "name": "python3",
      "display_name": "Python 3"
    },
    "language_info": {
      "name": "python"
    }
  },
  "cells": [
    {
      "cell_type": "code",
      "execution_count": 1,
      "metadata": {
        "colab": {
          "base_uri": "https://localhost:8080/"
        },
        "id": "7p-JoFG1w5Os",
        "outputId": "2a610514-2c0e-4204-f315-d5df8defa36c"
      },
      "outputs": [
        {
          "output_type": "stream",
          "name": "stdout",
          "text": [
            "Enter a string python\n",
            "htyp\n"
          ]
        }
      ],
      "source": [
        "string = input('Enter a string ')\n",
        "string = string[:-2]\n",
        "print(string[::-1])\n",
        ""
      ]
    },
    {
      "cell_type": "code",
      "source": [
        "num1 = int(input(\"Enter first numbers \"))\n",
        "num2 = int(input(\"Enter second numbers \"))\n",
        "\n",
        "add = num1+num2\n",
        "sub = num1-num2\n",
        "mul = num1*num2\n",
        "div = num1/num2\n",
        "\n",
        "print(f\"Addition of 2 numbers is {add} \\nSubtraction of 2 numbers is {sub} \\nmultiplication of 2 numbers is {mul} \\nDivison of 2 numbers is {div}\")\n"
      ],
      "metadata": {
        "colab": {
          "base_uri": "https://localhost:8080/"
        },
        "id": "ajF_3RODx10H",
        "outputId": "614becdd-6d87-4adb-c0f7-11f7d6dd9d92"
      },
      "execution_count": 2,
      "outputs": [
        {
          "output_type": "stream",
          "name": "stdout",
          "text": [
            "Enter first numbers 12\n",
            "Enter second numbers 56\n",
            "Addition of 2 numbers is 68 \n",
            "Subtraction of 2 numbers is -44 \n",
            "multiplication of 2 numbers is 672 \n",
            "Divison of 2 numbers is 0.21428571428571427\n"
          ]
        }
      ]
    },
    {
      "cell_type": "code",
      "source": [
        "sentence = input('Enter a sentence: ')\n",
        "words = sentence.split()\n",
        "for i in range(len(words)):\n",
        "  if words[i] == 'python':\n",
        "    words[i] = 'pythons'\n",
        "print(' '.join(words))\n"
      ],
      "metadata": {
        "colab": {
          "base_uri": "https://localhost:8080/"
        },
        "id": "cJMDRimgx9WU",
        "outputId": "8125dda3-77eb-4d24-ed49-046d670dc0ef"
      },
      "execution_count": 3,
      "outputs": [
        {
          "output_type": "stream",
          "name": "stdout",
          "text": [
            "Enter a sentence: python\n",
            "pythons\n"
          ]
        }
      ]
    },
    {
      "cell_type": "code",
      "source": [
        "grade = int(input(\"Enter the grade between 0 and 100: \"))\n",
        "if grade>100 or grade<0:\n",
        "  print('Error! enter grade between 0 and 100')\n",
        "elif 100>=grade>=90:\n",
        "  print(\"Grade is A\")\n",
        "elif 89>=grade>=80:\n",
        "  print(\"Grade is B\")\n",
        "elif 79>=grade>=70:\n",
        "  print(\"Grade is C\")\n",
        "elif 69>=grade>=60:\n",
        "  print(\"Grade is D\")\n",
        "else:\n",
        "  print('Grade is F')\n",
        "\n"
      ],
      "metadata": {
        "colab": {
          "base_uri": "https://localhost:8080/"
        },
        "id": "lwLZ55MKyCmN",
        "outputId": "f4c2a780-fe0f-4bda-d22a-f2d726b2c6f4"
      },
      "execution_count": 5,
      "outputs": [
        {
          "output_type": "stream",
          "name": "stdout",
          "text": [
            "Enter the grade between 0 and 100: 93\n",
            "Grade is A\n"
          ]
        }
      ]
    }
  ]
}